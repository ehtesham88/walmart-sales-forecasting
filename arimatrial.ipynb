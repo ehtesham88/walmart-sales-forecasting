{
 "cells": [
  {
   "cell_type": "code",
   "execution_count": 18,
   "metadata": {},
   "outputs": [],
   "source": [
    "import pandas as pd\n",
    "import numpy as np\n",
    "import matplotlib.pyplot as plt\n",
    "import seaborn as sns\n",
    "from pandas import datetime"
   ]
  },
  {
   "cell_type": "code",
   "execution_count": 19,
   "metadata": {},
   "outputs": [],
   "source": [
    "train=pd.read_csv(\"C:\\\\Users\\\\USER\\\\Desktop\\\\walmart\\\\train.csv\")\n",
    "features=pd.read_csv(\"C:\\\\Users\\\\USER\\\\Desktop\\\\walmart\\\\features.csv\")\n",
    "stores=pd.read_csv(\"C:\\\\Users\\\\USER\\\\Desktop\\\\walmart\\\\stores.csv\",)"
   ]
  },
  {
   "cell_type": "code",
   "execution_count": 20,
   "metadata": {},
   "outputs": [],
   "source": [
    "Y=train.groupby(['Date','Store'])['Weekly_Sales'].aggregate('sum').unstack().rename_axis(columns=None).reset_index()\n",
    "\n",
    "num_col_name=Y.columns[1:46]\n",
    "b_names=[]\n",
    "for name in num_col_name:\n",
    "    b_names.append('Store'+str(name))\n",
    "\n",
    "Z=Y.iloc[:,1:46]\n",
    "Z.columns=b_names\n",
    "\n",
    "Date=pd.DataFrame(Y['Date'])\n",
    "Z_data=pd.merge(Date,Z,left_index=True,right_index=True)"
   ]
  },
  {
   "cell_type": "code",
   "execution_count": 38,
   "metadata": {},
   "outputs": [
    {
     "data": {
      "text/html": [
       "<div>\n",
       "<style scoped>\n",
       "    .dataframe tbody tr th:only-of-type {\n",
       "        vertical-align: middle;\n",
       "    }\n",
       "\n",
       "    .dataframe tbody tr th {\n",
       "        vertical-align: top;\n",
       "    }\n",
       "\n",
       "    .dataframe thead th {\n",
       "        text-align: right;\n",
       "    }\n",
       "</style>\n",
       "<table border=\"1\" class=\"dataframe\">\n",
       "  <thead>\n",
       "    <tr style=\"text-align: right;\">\n",
       "      <th></th>\n",
       "      <th>Date</th>\n",
       "      <th>Store1</th>\n",
       "      <th>Store2</th>\n",
       "      <th>Store3</th>\n",
       "      <th>Store4</th>\n",
       "      <th>Store5</th>\n",
       "      <th>Store6</th>\n",
       "      <th>Store7</th>\n",
       "      <th>Store8</th>\n",
       "      <th>Store9</th>\n",
       "      <th>...</th>\n",
       "      <th>Store37</th>\n",
       "      <th>Store38</th>\n",
       "      <th>Store39</th>\n",
       "      <th>Store40</th>\n",
       "      <th>Store41</th>\n",
       "      <th>Store42</th>\n",
       "      <th>Store43</th>\n",
       "      <th>Store44</th>\n",
       "      <th>Store45</th>\n",
       "      <th>Sales_Sum</th>\n",
       "    </tr>\n",
       "  </thead>\n",
       "  <tbody>\n",
       "    <tr>\n",
       "      <td>0</td>\n",
       "      <td>01-04-2011</td>\n",
       "      <td>1495064.75</td>\n",
       "      <td>1800171.36</td>\n",
       "      <td>374556.08</td>\n",
       "      <td>1900246.47</td>\n",
       "      <td>314316.55</td>\n",
       "      <td>1459276.77</td>\n",
       "      <td>513409.67</td>\n",
       "      <td>878762.30</td>\n",
       "      <td>520962.14</td>\n",
       "      <td>...</td>\n",
       "      <td>534578.78</td>\n",
       "      <td>382098.13</td>\n",
       "      <td>1316849.36</td>\n",
       "      <td>841889.08</td>\n",
       "      <td>1179125.48</td>\n",
       "      <td>508432.17</td>\n",
       "      <td>611585.54</td>\n",
       "      <td>281514.26</td>\n",
       "      <td>712425.76</td>\n",
       "      <td>43458991.19</td>\n",
       "    </tr>\n",
       "    <tr>\n",
       "      <td>1</td>\n",
       "      <td>01-06-2012</td>\n",
       "      <td>1624477.58</td>\n",
       "      <td>1910092.37</td>\n",
       "      <td>432268.53</td>\n",
       "      <td>2179360.94</td>\n",
       "      <td>359867.80</td>\n",
       "      <td>1681121.38</td>\n",
       "      <td>598495.02</td>\n",
       "      <td>921161.20</td>\n",
       "      <td>583648.59</td>\n",
       "      <td>...</td>\n",
       "      <td>531811.85</td>\n",
       "      <td>435579.70</td>\n",
       "      <td>1640476.77</td>\n",
       "      <td>1037464.27</td>\n",
       "      <td>1374891.36</td>\n",
       "      <td>521953.78</td>\n",
       "      <td>605078.62</td>\n",
       "      <td>323410.94</td>\n",
       "      <td>837144.63</td>\n",
       "      <td>48281649.72</td>\n",
       "    </tr>\n",
       "    <tr>\n",
       "      <td>2</td>\n",
       "      <td>01-07-2011</td>\n",
       "      <td>1488538.09</td>\n",
       "      <td>1866243.00</td>\n",
       "      <td>368962.72</td>\n",
       "      <td>2051533.53</td>\n",
       "      <td>327093.89</td>\n",
       "      <td>1694551.15</td>\n",
       "      <td>704344.21</td>\n",
       "      <td>883683.35</td>\n",
       "      <td>537064.03</td>\n",
       "      <td>...</td>\n",
       "      <td>517021.30</td>\n",
       "      <td>387334.04</td>\n",
       "      <td>1429829.36</td>\n",
       "      <td>1048866.30</td>\n",
       "      <td>1333347.78</td>\n",
       "      <td>506343.83</td>\n",
       "      <td>586781.78</td>\n",
       "      <td>315273.08</td>\n",
       "      <td>791495.25</td>\n",
       "      <td>47578519.50</td>\n",
       "    </tr>\n",
       "    <tr>\n",
       "      <td>3</td>\n",
       "      <td>01-10-2010</td>\n",
       "      <td>1453329.50</td>\n",
       "      <td>1827440.43</td>\n",
       "      <td>358784.10</td>\n",
       "      <td>1842821.02</td>\n",
       "      <td>283178.12</td>\n",
       "      <td>1328468.89</td>\n",
       "      <td>448998.73</td>\n",
       "      <td>804105.49</td>\n",
       "      <td>495692.19</td>\n",
       "      <td>...</td>\n",
       "      <td>529877.93</td>\n",
       "      <td>360256.58</td>\n",
       "      <td>1219583.91</td>\n",
       "      <td>891152.33</td>\n",
       "      <td>1109216.35</td>\n",
       "      <td>481523.93</td>\n",
       "      <td>657108.77</td>\n",
       "      <td>300152.45</td>\n",
       "      <td>690007.76</td>\n",
       "      <td>42239875.87</td>\n",
       "    </tr>\n",
       "  </tbody>\n",
       "</table>\n",
       "<p>4 rows × 47 columns</p>\n",
       "</div>"
      ],
      "text/plain": [
       "         Date      Store1      Store2     Store3      Store4     Store5  \\\n",
       "0  01-04-2011  1495064.75  1800171.36  374556.08  1900246.47  314316.55   \n",
       "1  01-06-2012  1624477.58  1910092.37  432268.53  2179360.94  359867.80   \n",
       "2  01-07-2011  1488538.09  1866243.00  368962.72  2051533.53  327093.89   \n",
       "3  01-10-2010  1453329.50  1827440.43  358784.10  1842821.02  283178.12   \n",
       "\n",
       "       Store6     Store7     Store8     Store9  ...    Store37    Store38  \\\n",
       "0  1459276.77  513409.67  878762.30  520962.14  ...  534578.78  382098.13   \n",
       "1  1681121.38  598495.02  921161.20  583648.59  ...  531811.85  435579.70   \n",
       "2  1694551.15  704344.21  883683.35  537064.03  ...  517021.30  387334.04   \n",
       "3  1328468.89  448998.73  804105.49  495692.19  ...  529877.93  360256.58   \n",
       "\n",
       "      Store39     Store40     Store41    Store42    Store43    Store44  \\\n",
       "0  1316849.36   841889.08  1179125.48  508432.17  611585.54  281514.26   \n",
       "1  1640476.77  1037464.27  1374891.36  521953.78  605078.62  323410.94   \n",
       "2  1429829.36  1048866.30  1333347.78  506343.83  586781.78  315273.08   \n",
       "3  1219583.91   891152.33  1109216.35  481523.93  657108.77  300152.45   \n",
       "\n",
       "     Store45    Sales_Sum  \n",
       "0  712425.76  43458991.19  \n",
       "1  837144.63  48281649.72  \n",
       "2  791495.25  47578519.50  \n",
       "3  690007.76  42239875.87  \n",
       "\n",
       "[4 rows x 47 columns]"
      ]
     },
     "execution_count": 38,
     "metadata": {},
     "output_type": "execute_result"
    }
   ],
   "source": [
    "Z_data.head(4)"
   ]
  },
  {
   "cell_type": "code",
   "execution_count": 22,
   "metadata": {},
   "outputs": [],
   "source": [
    "i_Z=Z_data.set_index(['Date'])"
   ]
  },
  {
   "cell_type": "code",
   "execution_count": 23,
   "metadata": {},
   "outputs": [
    {
     "data": {
      "text/html": [
       "<div>\n",
       "<style scoped>\n",
       "    .dataframe tbody tr th:only-of-type {\n",
       "        vertical-align: middle;\n",
       "    }\n",
       "\n",
       "    .dataframe tbody tr th {\n",
       "        vertical-align: top;\n",
       "    }\n",
       "\n",
       "    .dataframe thead th {\n",
       "        text-align: right;\n",
       "    }\n",
       "</style>\n",
       "<table border=\"1\" class=\"dataframe\">\n",
       "  <thead>\n",
       "    <tr style=\"text-align: right;\">\n",
       "      <th></th>\n",
       "      <th>Store1</th>\n",
       "      <th>Store2</th>\n",
       "      <th>Store3</th>\n",
       "      <th>Store4</th>\n",
       "      <th>Store5</th>\n",
       "      <th>Store6</th>\n",
       "      <th>Store7</th>\n",
       "      <th>Store8</th>\n",
       "      <th>Store9</th>\n",
       "      <th>Store10</th>\n",
       "      <th>...</th>\n",
       "      <th>Store36</th>\n",
       "      <th>Store37</th>\n",
       "      <th>Store38</th>\n",
       "      <th>Store39</th>\n",
       "      <th>Store40</th>\n",
       "      <th>Store41</th>\n",
       "      <th>Store42</th>\n",
       "      <th>Store43</th>\n",
       "      <th>Store44</th>\n",
       "      <th>Store45</th>\n",
       "    </tr>\n",
       "    <tr>\n",
       "      <th>Date</th>\n",
       "      <th></th>\n",
       "      <th></th>\n",
       "      <th></th>\n",
       "      <th></th>\n",
       "      <th></th>\n",
       "      <th></th>\n",
       "      <th></th>\n",
       "      <th></th>\n",
       "      <th></th>\n",
       "      <th></th>\n",
       "      <th></th>\n",
       "      <th></th>\n",
       "      <th></th>\n",
       "      <th></th>\n",
       "      <th></th>\n",
       "      <th></th>\n",
       "      <th></th>\n",
       "      <th></th>\n",
       "      <th></th>\n",
       "      <th></th>\n",
       "      <th></th>\n",
       "    </tr>\n",
       "  </thead>\n",
       "  <tbody>\n",
       "    <tr>\n",
       "      <td>01-04-2011</td>\n",
       "      <td>1495064.75</td>\n",
       "      <td>1800171.36</td>\n",
       "      <td>374556.08</td>\n",
       "      <td>1900246.47</td>\n",
       "      <td>314316.55</td>\n",
       "      <td>1459276.77</td>\n",
       "      <td>513409.67</td>\n",
       "      <td>878762.3</td>\n",
       "      <td>520962.14</td>\n",
       "      <td>1827733.18</td>\n",
       "      <td>...</td>\n",
       "      <td>385672.11</td>\n",
       "      <td>534578.78</td>\n",
       "      <td>382098.13</td>\n",
       "      <td>1316849.36</td>\n",
       "      <td>841889.08</td>\n",
       "      <td>1179125.48</td>\n",
       "      <td>508432.17</td>\n",
       "      <td>611585.54</td>\n",
       "      <td>281514.26</td>\n",
       "      <td>712425.76</td>\n",
       "    </tr>\n",
       "    <tr>\n",
       "      <td>01-06-2012</td>\n",
       "      <td>1624477.58</td>\n",
       "      <td>1910092.37</td>\n",
       "      <td>432268.53</td>\n",
       "      <td>2179360.94</td>\n",
       "      <td>359867.80</td>\n",
       "      <td>1681121.38</td>\n",
       "      <td>598495.02</td>\n",
       "      <td>921161.2</td>\n",
       "      <td>583648.59</td>\n",
       "      <td>1767471.48</td>\n",
       "      <td>...</td>\n",
       "      <td>306005.53</td>\n",
       "      <td>531811.85</td>\n",
       "      <td>435579.70</td>\n",
       "      <td>1640476.77</td>\n",
       "      <td>1037464.27</td>\n",
       "      <td>1374891.36</td>\n",
       "      <td>521953.78</td>\n",
       "      <td>605078.62</td>\n",
       "      <td>323410.94</td>\n",
       "      <td>837144.63</td>\n",
       "    </tr>\n",
       "  </tbody>\n",
       "</table>\n",
       "<p>2 rows × 45 columns</p>\n",
       "</div>"
      ],
      "text/plain": [
       "                Store1      Store2     Store3      Store4     Store5  \\\n",
       "Date                                                                   \n",
       "01-04-2011  1495064.75  1800171.36  374556.08  1900246.47  314316.55   \n",
       "01-06-2012  1624477.58  1910092.37  432268.53  2179360.94  359867.80   \n",
       "\n",
       "                Store6     Store7    Store8     Store9     Store10  ...  \\\n",
       "Date                                                                ...   \n",
       "01-04-2011  1459276.77  513409.67  878762.3  520962.14  1827733.18  ...   \n",
       "01-06-2012  1681121.38  598495.02  921161.2  583648.59  1767471.48  ...   \n",
       "\n",
       "              Store36    Store37    Store38     Store39     Store40  \\\n",
       "Date                                                                  \n",
       "01-04-2011  385672.11  534578.78  382098.13  1316849.36   841889.08   \n",
       "01-06-2012  306005.53  531811.85  435579.70  1640476.77  1037464.27   \n",
       "\n",
       "               Store41    Store42    Store43    Store44    Store45  \n",
       "Date                                                                \n",
       "01-04-2011  1179125.48  508432.17  611585.54  281514.26  712425.76  \n",
       "01-06-2012  1374891.36  521953.78  605078.62  323410.94  837144.63  \n",
       "\n",
       "[2 rows x 45 columns]"
      ]
     },
     "execution_count": 23,
     "metadata": {},
     "output_type": "execute_result"
    }
   ],
   "source": [
    "i_Z.head(2)"
   ]
  },
  {
   "cell_type": "code",
   "execution_count": 24,
   "metadata": {},
   "outputs": [],
   "source": [
    "Z_data['Sales_Sum'] = Z_data.sum(axis=1)"
   ]
  },
  {
   "cell_type": "code",
   "execution_count": 25,
   "metadata": {},
   "outputs": [
    {
     "data": {
      "text/html": [
       "<div>\n",
       "<style scoped>\n",
       "    .dataframe tbody tr th:only-of-type {\n",
       "        vertical-align: middle;\n",
       "    }\n",
       "\n",
       "    .dataframe tbody tr th {\n",
       "        vertical-align: top;\n",
       "    }\n",
       "\n",
       "    .dataframe thead th {\n",
       "        text-align: right;\n",
       "    }\n",
       "</style>\n",
       "<table border=\"1\" class=\"dataframe\">\n",
       "  <thead>\n",
       "    <tr style=\"text-align: right;\">\n",
       "      <th></th>\n",
       "      <th>Date</th>\n",
       "      <th>Store1</th>\n",
       "      <th>Store2</th>\n",
       "      <th>Store3</th>\n",
       "      <th>Store4</th>\n",
       "      <th>Store5</th>\n",
       "      <th>Store6</th>\n",
       "      <th>Store7</th>\n",
       "      <th>Store8</th>\n",
       "      <th>Store9</th>\n",
       "      <th>...</th>\n",
       "      <th>Store37</th>\n",
       "      <th>Store38</th>\n",
       "      <th>Store39</th>\n",
       "      <th>Store40</th>\n",
       "      <th>Store41</th>\n",
       "      <th>Store42</th>\n",
       "      <th>Store43</th>\n",
       "      <th>Store44</th>\n",
       "      <th>Store45</th>\n",
       "      <th>Sales_Sum</th>\n",
       "    </tr>\n",
       "  </thead>\n",
       "  <tbody>\n",
       "    <tr>\n",
       "      <td>0</td>\n",
       "      <td>01-04-2011</td>\n",
       "      <td>1495064.75</td>\n",
       "      <td>1800171.36</td>\n",
       "      <td>374556.08</td>\n",
       "      <td>1900246.47</td>\n",
       "      <td>314316.55</td>\n",
       "      <td>1459276.77</td>\n",
       "      <td>513409.67</td>\n",
       "      <td>878762.30</td>\n",
       "      <td>520962.14</td>\n",
       "      <td>...</td>\n",
       "      <td>534578.78</td>\n",
       "      <td>382098.13</td>\n",
       "      <td>1316849.36</td>\n",
       "      <td>841889.08</td>\n",
       "      <td>1179125.48</td>\n",
       "      <td>508432.17</td>\n",
       "      <td>611585.54</td>\n",
       "      <td>281514.26</td>\n",
       "      <td>712425.76</td>\n",
       "      <td>43458991.19</td>\n",
       "    </tr>\n",
       "    <tr>\n",
       "      <td>1</td>\n",
       "      <td>01-06-2012</td>\n",
       "      <td>1624477.58</td>\n",
       "      <td>1910092.37</td>\n",
       "      <td>432268.53</td>\n",
       "      <td>2179360.94</td>\n",
       "      <td>359867.80</td>\n",
       "      <td>1681121.38</td>\n",
       "      <td>598495.02</td>\n",
       "      <td>921161.20</td>\n",
       "      <td>583648.59</td>\n",
       "      <td>...</td>\n",
       "      <td>531811.85</td>\n",
       "      <td>435579.70</td>\n",
       "      <td>1640476.77</td>\n",
       "      <td>1037464.27</td>\n",
       "      <td>1374891.36</td>\n",
       "      <td>521953.78</td>\n",
       "      <td>605078.62</td>\n",
       "      <td>323410.94</td>\n",
       "      <td>837144.63</td>\n",
       "      <td>48281649.72</td>\n",
       "    </tr>\n",
       "    <tr>\n",
       "      <td>2</td>\n",
       "      <td>01-07-2011</td>\n",
       "      <td>1488538.09</td>\n",
       "      <td>1866243.00</td>\n",
       "      <td>368962.72</td>\n",
       "      <td>2051533.53</td>\n",
       "      <td>327093.89</td>\n",
       "      <td>1694551.15</td>\n",
       "      <td>704344.21</td>\n",
       "      <td>883683.35</td>\n",
       "      <td>537064.03</td>\n",
       "      <td>...</td>\n",
       "      <td>517021.30</td>\n",
       "      <td>387334.04</td>\n",
       "      <td>1429829.36</td>\n",
       "      <td>1048866.30</td>\n",
       "      <td>1333347.78</td>\n",
       "      <td>506343.83</td>\n",
       "      <td>586781.78</td>\n",
       "      <td>315273.08</td>\n",
       "      <td>791495.25</td>\n",
       "      <td>47578519.50</td>\n",
       "    </tr>\n",
       "  </tbody>\n",
       "</table>\n",
       "<p>3 rows × 47 columns</p>\n",
       "</div>"
      ],
      "text/plain": [
       "         Date      Store1      Store2     Store3      Store4     Store5  \\\n",
       "0  01-04-2011  1495064.75  1800171.36  374556.08  1900246.47  314316.55   \n",
       "1  01-06-2012  1624477.58  1910092.37  432268.53  2179360.94  359867.80   \n",
       "2  01-07-2011  1488538.09  1866243.00  368962.72  2051533.53  327093.89   \n",
       "\n",
       "       Store6     Store7     Store8     Store9  ...    Store37    Store38  \\\n",
       "0  1459276.77  513409.67  878762.30  520962.14  ...  534578.78  382098.13   \n",
       "1  1681121.38  598495.02  921161.20  583648.59  ...  531811.85  435579.70   \n",
       "2  1694551.15  704344.21  883683.35  537064.03  ...  517021.30  387334.04   \n",
       "\n",
       "      Store39     Store40     Store41    Store42    Store43    Store44  \\\n",
       "0  1316849.36   841889.08  1179125.48  508432.17  611585.54  281514.26   \n",
       "1  1640476.77  1037464.27  1374891.36  521953.78  605078.62  323410.94   \n",
       "2  1429829.36  1048866.30  1333347.78  506343.83  586781.78  315273.08   \n",
       "\n",
       "     Store45    Sales_Sum  \n",
       "0  712425.76  43458991.19  \n",
       "1  837144.63  48281649.72  \n",
       "2  791495.25  47578519.50  \n",
       "\n",
       "[3 rows x 47 columns]"
      ]
     },
     "execution_count": 25,
     "metadata": {},
     "output_type": "execute_result"
    }
   ],
   "source": [
    "Z_data.head(3)"
   ]
  },
  {
   "cell_type": "code",
   "execution_count": 26,
   "metadata": {},
   "outputs": [],
   "source": [
    "Z_data_index=Z_data.set_index('Date')"
   ]
  },
  {
   "cell_type": "code",
   "execution_count": 27,
   "metadata": {},
   "outputs": [],
   "source": [
    "i_Z_s=Z_data_index.iloc[:,-1]"
   ]
  },
  {
   "cell_type": "code",
   "execution_count": 28,
   "metadata": {},
   "outputs": [
    {
     "data": {
      "text/plain": [
       "Date\n",
       "01-04-2011    43458991.19\n",
       "01-06-2012    48281649.72\n",
       "01-07-2011    47578519.50\n",
       "Name: Sales_Sum, dtype: float64"
      ]
     },
     "execution_count": 28,
     "metadata": {},
     "output_type": "execute_result"
    }
   ],
   "source": [
    "i_Z_s.head(3)"
   ]
  },
  {
   "cell_type": "code",
   "execution_count": 29,
   "metadata": {},
   "outputs": [
    {
     "name": "stdout",
     "output_type": "stream",
     "text": [
      "[(0, 0, 0), (0, 0, 1), (0, 0, 2), (0, 0, 3), (0, 0, 4), (0, 0, 5), (0, 0, 6), (0, 1, 0), (0, 1, 1), (0, 1, 2), (0, 1, 3), (0, 1, 4), (0, 1, 5), (0, 1, 6), (0, 2, 0), (0, 2, 1), (0, 2, 2), (0, 2, 3), (0, 2, 4), (0, 2, 5), (0, 2, 6), (0, 3, 0), (0, 3, 1), (0, 3, 2), (0, 3, 3), (0, 3, 4), (0, 3, 5), (0, 3, 6), (0, 4, 0), (0, 4, 1), (0, 4, 2), (0, 4, 3), (0, 4, 4), (0, 4, 5), (0, 4, 6), (0, 5, 0), (0, 5, 1), (0, 5, 2), (0, 5, 3), (0, 5, 4), (0, 5, 5), (0, 5, 6), (0, 6, 0), (0, 6, 1), (0, 6, 2), (0, 6, 3), (0, 6, 4), (0, 6, 5), (0, 6, 6), (1, 0, 0), (1, 0, 1), (1, 0, 2), (1, 0, 3), (1, 0, 4), (1, 0, 5), (1, 0, 6), (1, 1, 0), (1, 1, 1), (1, 1, 2), (1, 1, 3), (1, 1, 4), (1, 1, 5), (1, 1, 6), (1, 2, 0), (1, 2, 1), (1, 2, 2), (1, 2, 3), (1, 2, 4), (1, 2, 5), (1, 2, 6), (1, 3, 0), (1, 3, 1), (1, 3, 2), (1, 3, 3), (1, 3, 4), (1, 3, 5), (1, 3, 6), (1, 4, 0), (1, 4, 1), (1, 4, 2), (1, 4, 3), (1, 4, 4), (1, 4, 5), (1, 4, 6), (1, 5, 0), (1, 5, 1), (1, 5, 2), (1, 5, 3), (1, 5, 4), (1, 5, 5), (1, 5, 6), (1, 6, 0), (1, 6, 1), (1, 6, 2), (1, 6, 3), (1, 6, 4), (1, 6, 5), (1, 6, 6), (2, 0, 0), (2, 0, 1), (2, 0, 2), (2, 0, 3), (2, 0, 4), (2, 0, 5), (2, 0, 6), (2, 1, 0), (2, 1, 1), (2, 1, 2), (2, 1, 3), (2, 1, 4), (2, 1, 5), (2, 1, 6), (2, 2, 0), (2, 2, 1), (2, 2, 2), (2, 2, 3), (2, 2, 4), (2, 2, 5), (2, 2, 6), (2, 3, 0), (2, 3, 1), (2, 3, 2), (2, 3, 3), (2, 3, 4), (2, 3, 5), (2, 3, 6), (2, 4, 0), (2, 4, 1), (2, 4, 2), (2, 4, 3), (2, 4, 4), (2, 4, 5), (2, 4, 6), (2, 5, 0), (2, 5, 1), (2, 5, 2), (2, 5, 3), (2, 5, 4), (2, 5, 5), (2, 5, 6), (2, 6, 0), (2, 6, 1), (2, 6, 2), (2, 6, 3), (2, 6, 4), (2, 6, 5), (2, 6, 6), (3, 0, 0), (3, 0, 1), (3, 0, 2), (3, 0, 3), (3, 0, 4), (3, 0, 5), (3, 0, 6), (3, 1, 0), (3, 1, 1), (3, 1, 2), (3, 1, 3), (3, 1, 4), (3, 1, 5), (3, 1, 6), (3, 2, 0), (3, 2, 1), (3, 2, 2), (3, 2, 3), (3, 2, 4), (3, 2, 5), (3, 2, 6), (3, 3, 0), (3, 3, 1), (3, 3, 2), (3, 3, 3), (3, 3, 4), (3, 3, 5), (3, 3, 6), (3, 4, 0), (3, 4, 1), (3, 4, 2), (3, 4, 3), (3, 4, 4), (3, 4, 5), (3, 4, 6), (3, 5, 0), (3, 5, 1), (3, 5, 2), (3, 5, 3), (3, 5, 4), (3, 5, 5), (3, 5, 6), (3, 6, 0), (3, 6, 1), (3, 6, 2), (3, 6, 3), (3, 6, 4), (3, 6, 5), (3, 6, 6), (4, 0, 0), (4, 0, 1), (4, 0, 2), (4, 0, 3), (4, 0, 4), (4, 0, 5), (4, 0, 6), (4, 1, 0), (4, 1, 1), (4, 1, 2), (4, 1, 3), (4, 1, 4), (4, 1, 5), (4, 1, 6), (4, 2, 0), (4, 2, 1), (4, 2, 2), (4, 2, 3), (4, 2, 4), (4, 2, 5), (4, 2, 6), (4, 3, 0), (4, 3, 1), (4, 3, 2), (4, 3, 3), (4, 3, 4), (4, 3, 5), (4, 3, 6), (4, 4, 0), (4, 4, 1), (4, 4, 2), (4, 4, 3), (4, 4, 4), (4, 4, 5), (4, 4, 6), (4, 5, 0), (4, 5, 1), (4, 5, 2), (4, 5, 3), (4, 5, 4), (4, 5, 5), (4, 5, 6), (4, 6, 0), (4, 6, 1), (4, 6, 2), (4, 6, 3), (4, 6, 4), (4, 6, 5), (4, 6, 6), (5, 0, 0), (5, 0, 1), (5, 0, 2), (5, 0, 3), (5, 0, 4), (5, 0, 5), (5, 0, 6), (5, 1, 0), (5, 1, 1), (5, 1, 2), (5, 1, 3), (5, 1, 4), (5, 1, 5), (5, 1, 6), (5, 2, 0), (5, 2, 1), (5, 2, 2), (5, 2, 3), (5, 2, 4), (5, 2, 5), (5, 2, 6), (5, 3, 0), (5, 3, 1), (5, 3, 2), (5, 3, 3), (5, 3, 4), (5, 3, 5), (5, 3, 6), (5, 4, 0), (5, 4, 1), (5, 4, 2), (5, 4, 3), (5, 4, 4), (5, 4, 5), (5, 4, 6), (5, 5, 0), (5, 5, 1), (5, 5, 2), (5, 5, 3), (5, 5, 4), (5, 5, 5), (5, 5, 6), (5, 6, 0), (5, 6, 1), (5, 6, 2), (5, 6, 3), (5, 6, 4), (5, 6, 5), (5, 6, 6), (6, 0, 0), (6, 0, 1), (6, 0, 2), (6, 0, 3), (6, 0, 4), (6, 0, 5), (6, 0, 6), (6, 1, 0), (6, 1, 1), (6, 1, 2), (6, 1, 3), (6, 1, 4), (6, 1, 5), (6, 1, 6), (6, 2, 0), (6, 2, 1), (6, 2, 2), (6, 2, 3), (6, 2, 4), (6, 2, 5), (6, 2, 6), (6, 3, 0), (6, 3, 1), (6, 3, 2), (6, 3, 3), (6, 3, 4), (6, 3, 5), (6, 3, 6), (6, 4, 0), (6, 4, 1), (6, 4, 2), (6, 4, 3), (6, 4, 4), (6, 4, 5), (6, 4, 6), (6, 5, 0), (6, 5, 1), (6, 5, 2), (6, 5, 3), (6, 5, 4), (6, 5, 5), (6, 5, 6), (6, 6, 0), (6, 6, 1), (6, 6, 2), (6, 6, 3), (6, 6, 4), (6, 6, 5), (6, 6, 6)]\n"
     ]
    }
   ],
   "source": [
    "import itertools\n",
    "p=d=q=range(0,7)\n",
    "pdq=list(itertools.product(p,d,q))\n",
    "print(pdq)"
   ]
  },
  {
   "cell_type": "code",
   "execution_count": 30,
   "metadata": {},
   "outputs": [],
   "source": [
    "from statsmodels.tsa.arima_model import ARIMA"
   ]
  },
  {
   "cell_type": "code",
   "execution_count": 31,
   "metadata": {},
   "outputs": [
    {
     "name": "stdout",
     "output_type": "stream",
     "text": [
      "4766.299446811248\n"
     ]
    }
   ],
   "source": [
    "data=pd.DataFrame(i_Z_s).reset_index()\n",
    "xtrain=data['Sales_Sum']\n",
    "xtrain\n",
    "model_arma=ARIMA(xtrain,order=(4,1,0))\n",
    "model_arma_fit=model_arma.fit()\n",
    "print(model_arma_fit.aic)"
   ]
  },
  {
   "cell_type": "code",
   "execution_count": 32,
   "metadata": {},
   "outputs": [
    {
     "data": {
      "text/plain": [
       "array([43458991.18999999, 48281649.72      , 47578519.5       ,\n",
       "       42239875.87      , 46861034.96999999, 50423831.26      ,\n",
       "       48917484.49999999, 45376623.27000001, 49390556.48999999,\n",
       "       46085608.09      , 48771994.18      , 47485899.56      ,\n",
       "       47194257.61      , 49909027.87999999, 46153111.12      ,\n",
       "       46980603.73999999, 47124197.93000001, 50188543.12      ,\n",
       "       48655544.3       , 49750740.5       , 46871470.3       ,\n",
       "       48015466.97      , 47566639.31      , 45781981.89000001,\n",
       "       44955421.95      , 53502315.87      , 46861958.29000001,\n",
       "       51253021.88000001, 48204999.12      , 42775787.77000001,\n",
       "       48503243.52      , 48330059.30999999, 47211688.35999999,\n",
       "       45887466.8       , 49651171.77999999, 47859263.78      ,\n",
       "       45102974.23      , 47480454.11      , 47365290.44      ,\n",
       "       47899529.37      , 46763227.52999999, 55561147.7       ,\n",
       "       50009407.92      , 47669734.66000001, 47403451.04      ,\n",
       "       45634397.84      , 55666770.39000002, 47336192.79      ,\n",
       "       44627319.40000001, 46925878.98999999, 47826546.72000001,\n",
       "       48474224.75      , 48336677.63      , 45925396.51      ,\n",
       "       46249569.21      , 46128514.25      , 46124800.82999998,\n",
       "       42023078.48000001, 46629261.41      , 45446144.82      ,\n",
       "       46099732.1       , 46464418.41      , 40673678.04000001,\n",
       "       45330080.20000001, 44226038.65      , 44374820.3       ,\n",
       "       44973328.14000001, 48412110.7       , 45515929.92000001,\n",
       "       43149473.45      , 46901504.94000001, 45183667.08000001,\n",
       "       46243899.58000001, 43793960.08000001, 60085695.93999999,\n",
       "       50197056.95999999, 47447561.77      , 47354452.05      ,\n",
       "       43080726.50999999, 61820799.85      , 48716164.12      ,\n",
       "       44872325.97      , 46823939.22000001, 47622046.23      ,\n",
       "       46438980.56      , 48276993.77999999, 44988974.64000001,\n",
       "       46917347.61999999, 45122410.57      , 45125584.18000001,\n",
       "       42080996.56      , 45072529.77999999, 44046598.01      ,\n",
       "       46059543.45      , 47060952.92000001, 40654648.02999999,\n",
       "       45120108.05999999, 44354547.11000001, 45818953.44      ,\n",
       "       48676692.05999999, 47668284.97000001, 45274411.39      ,\n",
       "       43066669.52      , 44993794.45      , 44734452.56      ,\n",
       "       44888849.10999999, 42718096.73000001, 76998241.30999999,\n",
       "       45771506.56999999, 45884094.58      , 47447323.6       ,\n",
       "       41358514.41      , 80931415.6       , 44125859.84      ,\n",
       "       42876199.18      , 47892463.31      , 46609036.29000001,\n",
       "       66593605.26      , 43968571.13      , 44133961.05      ,\n",
       "       47416948.44999999, 45544116.28999999, 65821003.24      ,\n",
       "       39834974.67000001, 43716798.89000001, 45293457.04      ,\n",
       "       44097154.97      , 45909740.44      , 39599852.98999999,\n",
       "       47757502.56      , 43734899.4       , 45855821.05000001,\n",
       "       43530032.78      , 46597112.12      , 43683274.28      ,\n",
       "       43602830.95      , 45272862.02      , 43705126.71      ,\n",
       "       44630363.42000001, 42195830.81      , 46042461.04000001,\n",
       "       47159639.43      , 40432518.99999999])"
      ]
     },
     "execution_count": 32,
     "metadata": {},
     "output_type": "execute_result"
    }
   ],
   "source": [
    "xtrain.values"
   ]
  },
  {
   "cell_type": "code",
   "execution_count": 33,
   "metadata": {},
   "outputs": [
    {
     "data": {
      "text/plain": [
       "array([44569528.81789309, 43110262.17232452, 45259264.72125763,\n",
       "       45594029.29304634, 41560317.08526604, 44439464.02416332,\n",
       "       43503484.49593905, 44671274.41120631, 44693037.7626486 ,\n",
       "       42307931.99466593, 44266686.18398824, 43629484.21488051,\n",
       "       44246047.38742268, 44167179.26413321, 42773137.07310502,\n",
       "       44077243.12573894, 43624744.48480362, 43939950.39805913,\n",
       "       43846922.81985824, 43038740.601652  , 43888851.16642464,\n",
       "       43559622.41899046, 43714276.6847862 , 43635821.11326653,\n",
       "       43168593.1198629 , 43710900.2340114 ])"
      ]
     },
     "execution_count": 33,
     "metadata": {},
     "output_type": "execute_result"
    }
   ],
   "source": [
    "predict=model_arma_fit.forecast(steps=26)[0]\n",
    "predict"
   ]
  },
  {
   "cell_type": "code",
   "execution_count": 34,
   "metadata": {},
   "outputs": [
    {
     "data": {
      "text/plain": [
       "<matplotlib.axes._subplots.AxesSubplot at 0x194f898ab48>"
      ]
     },
     "execution_count": 34,
     "metadata": {},
     "output_type": "execute_result"
    },
    {
     "data": {
      "image/png": "[encoded data removed]",
      "text/plain": [
       "<Figure size 432x288 with 1 Axes>"
      ]
     },
     "metadata": {
      "needs_background": "light"
     },
     "output_type": "display_data"
    }
   ],
   "source": [
    "forecast=pd.DataFrame(np.concatenate([xtrain,predict]))\n",
    "forecast.columns=[\"Sales\"]\n",
    "#forecast\n",
    "\n",
    "\n",
    "forecast[['Sales']].plot()"
   ]
  },
  {
   "cell_type": "code",
   "execution_count": 39,
   "metadata": {},
   "outputs": [
    {
     "name": "stdout",
     "output_type": "stream",
     "text": [
      "(0, 0, 0) 4844.690788058501\n",
      "(0, 0, 1) 4844.579334111798\n",
      "(0, 0, 2) 4846.557895426685\n",
      "(0, 0, 3) 4839.419242561359\n",
      "(0, 0, 4) 4840.295944955679\n",
      "(0, 1, 0) 4925.172145342276\n",
      "(0, 1, 1) 4819.159780724125\n",
      "(0, 2, 0) 5049.821625205336\n",
      "(0, 2, 1) 4906.33194363483\n",
      "(1, 0, 0) 4844.685560738436\n",
      "(1, 0, 1) 4846.565589315476\n",
      "(1, 0, 2) 4836.348873935047\n",
      "(1, 0, 3) 4831.702306032402\n",
      "(1, 0, 4) 4832.728839327674\n",
      "(1, 1, 0) 4878.053438236238\n",
      "(1, 1, 1) 4818.101924739136\n",
      "(1, 1, 3) 4804.260477519381\n",
      "(1, 1, 4) 4799.747406699915\n",
      "(1, 2, 0) 4963.528524468377\n",
      "(1, 2, 3) 4802.786337200697\n",
      "(2, 0, 0) 4846.516953078226\n",
      "(2, 0, 1) 4834.659635123571\n",
      "(2, 0, 2) 4830.891345268385\n",
      "(2, 0, 3) 4824.948493647371\n",
      "(2, 0, 4) 4827.718833136429\n",
      "(2, 1, 0) 4858.201375739482\n",
      "(2, 1, 1) 4818.723661047792\n",
      "(2, 1, 2) 4807.327096240982\n",
      "(2, 1, 3) 4805.4055650148075\n",
      "(2, 1, 4) 4802.99099650039\n",
      "(2, 2, 0) 4916.875007025047\n",
      "(2, 2, 1) 4833.440668325163\n",
      "(2, 2, 4) 4793.82906930242\n",
      "(3, 0, 0) 4848.50225514499\n",
      "(3, 0, 1) 4834.5614714263675\n",
      "(3, 0, 2) 4834.5782011189995\n",
      "(3, 0, 3) 4820.349454753768\n",
      "(3, 0, 4) 4824.758469080071\n",
      "(3, 1, 0) 4852.214686756393\n",
      "(3, 1, 1) 4816.168750517865\n",
      "(3, 1, 2) 4809.2597887307165\n",
      "(3, 1, 3) 4806.362219118666\n",
      "(3, 1, 4) 4799.586710150066\n",
      "(3, 2, 0) 4915.067199857446\n",
      "(3, 2, 1) 4847.982949295022\n",
      "(3, 2, 4) 4794.964489140768\n",
      "(4, 0, 0) 4850.1887677800005\n",
      "(4, 0, 1) 4830.3818769142035\n",
      "(4, 0, 2) 4826.734201462855\n",
      "(4, 0, 3) 4814.799468246583\n",
      "(4, 0, 4) 4830.926196331817\n",
      "(4, 1, 0) 4766.299446811248\n",
      "(4, 1, 1) 4768.174564986884\n",
      "(4, 1, 2) 4769.288676078782\n",
      "(4, 1, 3) 4771.262379620082\n",
      "(4, 1, 4) 4772.718766814802\n",
      "(4, 2, 0) 4815.259938391195\n",
      "(4, 2, 1) 4743.278990291021\n",
      "(4, 2, 2) 4745.201055511652\n",
      "(4, 2, 3) 4746.436986359674\n",
      "(4, 2, 4) 4770.076765009597\n"
     ]
    }
   ],
   "source": [
    "import warnings\n",
    "warnings.filterwarnings('ignore')\n",
    "for param in pdq:\n",
    "    try:\n",
    "        model_arma=ARIMA(pd.DataFrame(xtrain),order=param)\n",
    "        model_arma_fit=model_arma.fit()\n",
    "        print(param,model_arma_fit.aic)\n",
    "\n",
    "    except:\n",
    "        continue\n"
   ]
  },
  {
   "cell_type": "code",
   "execution_count": 35,
   "metadata": {},
   "outputs": [
    {
     "data": {
      "text/plain": [
       "<statsmodels.tsa.arima_model.ARIMAResultsWrapper at 0x194f8960508>"
      ]
     },
     "execution_count": 35,
     "metadata": {},
     "output_type": "execute_result"
    }
   ],
   "source": [
    "model_arma_fit"
   ]
  },
  {
   "cell_type": "code",
   "execution_count": 36,
   "metadata": {},
   "outputs": [
    {
     "name": "stdout",
     "output_type": "stream",
     "text": [
      "4766.299446811248\n"
     ]
    }
   ],
   "source": [
    "data=pd.DataFrame(xtrain).reset_index()\n",
    "xtrain=data['Sales_Sum']\n",
    "xtrain\n",
    "model_arma=ARIMA(xtrain,order=(4,1,0))\n",
    "model_arma_fit=model_arma.fit()\n",
    "print(model_arma_fit.aic)"
   ]
  },
  {
   "cell_type": "code",
   "execution_count": 37,
   "metadata": {},
   "outputs": [
    {
     "data": {
      "text/plain": [
       "<matplotlib.axes._subplots.AxesSubplot at 0x194f8997d88>"
      ]
     },
     "execution_count": 37,
     "metadata": {},
     "output_type": "execute_result"
    },
    {
     "data": {
      "image/png": "[encoded data removed]",
      "text/plain": [
       "<Figure size 432x288 with 1 Axes>"
      ]
     },
     "metadata": {
      "needs_background": "light"
     },
     "output_type": "display_data"
    }
   ],
   "source": [
    "\n",
    "xtrain.plot()"
   ]
  },
  {
   "cell_type": "code",
   "execution_count": 56,
   "metadata": {},
   "outputs": [
    {
     "data": {
      "text/plain": [
       "<matplotlib.axes._subplots.AxesSubplot at 0x19755bc8e48>"
      ]
     },
     "execution_count": 56,
     "metadata": {},
     "output_type": "execute_result"
    },
    {
     "data": {
      "image/png": "[encoded data removed]",
      "text/plain": [
       "<Figure size 432x288 with 1 Axes>"
      ]
     },
     "metadata": {
      "needs_background": "light"
     },
     "output_type": "display_data"
    }
   ],
   "source": [
    "prd=pd.DataFrame(predict)\n",
    "prd.columns=[\"Pred\"]\n",
    "\n",
    "prd[['Pred']].plot()"
   ]
  },
  {
   "cell_type": "code",
   "execution_count": null,
   "metadata": {},
   "outputs": [],
   "source": []
  }
 ],
 "metadata": {
  "kernelspec": {
   "display_name": "Python 3",
   "language": "python",
   "name": "python3"
  },
  "language_info": {
   "codemirror_mode": {
    "name": "ipython",
    "version": 3
   },
   "file_extension": ".py",
   "mimetype": "text/x-python",
   "name": "python",
   "nbconvert_exporter": "python",
   "pygments_lexer": "ipython3",
   "version": "3.7.4"
  }
 },
 "nbformat": 4,
 "nbformat_minor": 2
}
